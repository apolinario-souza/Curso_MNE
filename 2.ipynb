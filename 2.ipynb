{
 "cells": [
  {
   "cell_type": "markdown",
   "id": "d2c7bec8",
   "metadata": {},
   "source": [
    "# Pré-processamento\n",
    "1. Identificando e excluindo canais \"ruins\"\n",
    "2. Identificando e excluindo trechos \"ruins\"\n",
    "3. Removendo Slow drifts\n",
    "4. Aplicando o notch filter (60Hz)\n",
    "5. Reparando artefatos com ICA\n",
    "6. Configurando uma referência para os dados de EEG\n",
    "7. Salvar o arquivo pré-processado"
   ]
  },
  {
   "cell_type": "code",
   "execution_count": null,
   "id": "8a7def06",
   "metadata": {},
   "outputs": [],
   "source": [
    "# Carregando pacotes\n",
    "import os\n",
    "import matplotlib\n",
    "from copy import deepcopy\n",
    "import numpy as np\n",
    "import mne\n",
    "from mne.preprocessing import ICA, corrmap, create_ecg_epochs, create_eog_epochs\n"
   ]
  },
  {
   "cell_type": "code",
   "execution_count": null,
   "id": "c922dd52",
   "metadata": {},
   "outputs": [],
   "source": [
    "#Truque para \"plotar\" os gráficos em uma janela separada\n",
    "matplotlib.use('Qt5Agg')"
   ]
  },
  {
   "cell_type": "code",
   "execution_count": null,
   "id": "0525989e",
   "metadata": {},
   "outputs": [],
   "source": [
    "# Abrindo o arquivo eeg\n",
    "nome_arquivo = \"eeg/raw/1/ME.edf\"\n",
    "raw = mne.io.read_raw_edf(nome_arquivo, preload=True)\n"
   ]
  },
  {
   "cell_type": "code",
   "execution_count": null,
   "id": "662ef9fc",
   "metadata": {},
   "outputs": [],
   "source": [
    "##### Removendo os canais que nao serao utilizados\n",
    "ch_names = ['SystemTimestamp', 'Tilt X', 'Tilt Y', 'Tilt Z', 'ESUTimestamp', 'ECG']\n",
    "raw.drop_channels(ch_names, on_missing='raise')"
   ]
  },
  {
   "cell_type": "code",
   "execution_count": null,
   "id": "3312264a",
   "metadata": {},
   "outputs": [],
   "source": [
    "##### Inserindo a montagem do sistema 10-20 no arquivo de eeg\n",
    "easycap_montage = mne.channels.make_standard_montage(\"easycap-M1\")\n",
    "raw.set_montage(easycap_montage)"
   ]
  },
  {
   "cell_type": "code",
   "execution_count": null,
   "id": "7808b655",
   "metadata": {},
   "outputs": [],
   "source": [
    "## 1. Identificando e excluindo canais \"ruins\" \n",
    "# Clique no canal para marca-lo como ruim \n",
    "raw.plot()\n",
    "\n",
    "\n"
   ]
  },
  {
   "cell_type": "code",
   "execution_count": null,
   "id": "c017ee47",
   "metadata": {},
   "outputs": [],
   "source": [
    "# vizualizando o canal\n",
    "print(raw.info[\"bads\"])"
   ]
  },
  {
   "cell_type": "code",
   "execution_count": null,
   "id": "3e249238",
   "metadata": {},
   "outputs": [],
   "source": [
    "# interpolate_bads() é usada para realizar a interpolação dos canais \"ruins\" ou \"com defeito\"\n",
    "raw_interp = raw.copy().interpolate_bads(reset_bads=False)\n",
    "\n",
    "raw.plot(butterfly=True, color=\"#00000022\", bad_color=\"r\") #plotar a interpolação"
   ]
  },
  {
   "cell_type": "code",
   "execution_count": null,
   "id": "aecd9a50",
   "metadata": {},
   "outputs": [],
   "source": [
    "######### 2. Identificando e excluindo trechos \"ruins\"\n",
    "\n",
    "raw_interp.plot() #pressione A"
   ]
  },
  {
   "cell_type": "code",
   "execution_count": null,
   "id": "74713170",
   "metadata": {},
   "outputs": [],
   "source": [
    "#Para vizualizar as  anotações\n",
    "\n",
    "print(len(raw_interp.annotations))\n",
    "print(set(raw_interp.annotations.onset))\n",
    "print(set(raw_interp.annotations.duration))\n",
    "print(set(raw_interp.annotations.description))\n"
   ]
  },
  {
   "cell_type": "code",
   "execution_count": null,
   "id": "9885a86f",
   "metadata": {},
   "outputs": [],
   "source": [
    "# O parametro reject_by_annotation será utilizado a seguir na ICA"
   ]
  },
  {
   "cell_type": "code",
   "execution_count": null,
   "id": "723b1208",
   "metadata": {},
   "outputs": [],
   "source": [
    "# 3. Removendo Slow drifts\n",
    "#Observe os locais de ruidos\n",
    "raw_interp.compute_psd(fmax=100).plot(average=False, picks=\"data\", exclude=\"reject_by_annotation\")"
   ]
  },
  {
   "cell_type": "code",
   "execution_count": null,
   "id": "49b57250",
   "metadata": {},
   "outputs": [],
   "source": [
    "# Passando um filtro com a frquencia 0.1Hz\n",
    "raw_fill = raw.copy().filter(l_freq=0.1, h_freq=None)"
   ]
  },
  {
   "cell_type": "code",
   "execution_count": null,
   "id": "8f3cb41e",
   "metadata": {},
   "outputs": [],
   "source": [
    "#Observe que ruído de 60 Hz permanece\n",
    "raw_fill.compute_psd(fmax=100).plot(average=False, picks=\"data\", exclude=\"reject_by_annotation\")"
   ]
  },
  {
   "cell_type": "code",
   "execution_count": null,
   "id": "dac9c44c",
   "metadata": {},
   "outputs": [],
   "source": [
    "# 4. Aplicando o notch filter (60Hz)\n",
    "raw_notch = raw_fill.copy().notch_filter(freqs=60)"
   ]
  },
  {
   "cell_type": "code",
   "execution_count": null,
   "id": "bda0174b",
   "metadata": {},
   "outputs": [],
   "source": [
    "#Observe que ruído de 60 Hz é atenuado\n",
    "raw_notch.compute_psd(fmax=100).plot(average=False, picks=\"data\", exclude=\"reject_by_annotation\")"
   ]
  },
  {
   "cell_type": "code",
   "execution_count": null,
   "id": "73b722a3",
   "metadata": {},
   "outputs": [],
   "source": [
    "# 5. Reparando artefatos com ICA\n",
    "# Parâmetros\n",
    "n_components = 9  \n",
    "method = 'fastica' \n",
    "random_state = 23"
   ]
  },
  {
   "cell_type": "code",
   "execution_count": null,
   "id": "9081bc56",
   "metadata": {},
   "outputs": [],
   "source": [
    "# Criando o objeto\n",
    "ica = ICA(n_components=n_components, method=method, random_state=random_state)\n"
   ]
  },
  {
   "cell_type": "code",
   "execution_count": null,
   "id": "ff79ce4e",
   "metadata": {},
   "outputs": [],
   "source": [
    "# \"Filtrando\" os dados com ICA\n",
    "ica.fit(raw_notch, reject_by_annotation=True)"
   ]
  },
  {
   "cell_type": "code",
   "execution_count": null,
   "id": "eaddf645",
   "metadata": {},
   "outputs": [],
   "source": [
    "# Formas de determinar a qualidade do ICA\n",
    "\n",
    "#1. Variabilidade explicada\n",
    "\n",
    "for i in range(9):\n",
    "    explained_var_ratio = ica.get_explained_variance_ratio(raw_notch, components=[i])\n",
    "\n",
    "    print('canal'+str(i)+' '+str(explained_var_ratio[\"eeg\"]*100))"
   ]
  },
  {
   "cell_type": "code",
   "execution_count": null,
   "id": "7a8160a6",
   "metadata": {},
   "outputs": [],
   "source": [
    "# Formas de determinar a qualidade do ICA\n",
    "\n",
    "#2. Fontes do ICA\n",
    "ica.plot_sources(raw_notch, show_scrollbars=False)\n",
    "print(raw_notch.info['ch_names']) # Coloquei aqui só para verificar os canais"
   ]
  },
  {
   "cell_type": "code",
   "execution_count": null,
   "id": "d535c69d",
   "metadata": {},
   "outputs": [],
   "source": [
    "ica.plot_components()\n"
   ]
  },
  {
   "cell_type": "code",
   "execution_count": null,
   "id": "ead5ad9a",
   "metadata": {},
   "outputs": [],
   "source": [
    "# Formas de determinar a qualidade do ICA\n",
    "\n",
    "#3. Comparando as propriedades\n",
    "ica.plot_properties(raw_notch, picks=[0,1])\n"
   ]
  },
  {
   "cell_type": "code",
   "execution_count": null,
   "id": "ae71efaf",
   "metadata": {},
   "outputs": [],
   "source": [
    "# Formas de determinar a qualidade do ICA\n",
    "\n",
    "#4. Fazer a comparação excluído os dados\n",
    "\n",
    "ica.plot_overlay(raw_notch, exclude=[0,1], picks='eeg')"
   ]
  },
  {
   "cell_type": "code",
   "execution_count": null,
   "id": "47d47754",
   "metadata": {},
   "outputs": [],
   "source": [
    "ica.exclude = [0,1] # Exclui os canais 0, 1\n",
    "\n",
    "reconst_raw = raw_notch.copy()\n",
    "ica.apply(reconst_raw)\n",
    "\n",
    "reconst_raw.plot()\n"
   ]
  },
  {
   "cell_type": "code",
   "execution_count": null,
   "id": "31fb5728",
   "metadata": {},
   "outputs": [],
   "source": [
    "# 6. Configurando uma referência para os dados de EEG\n",
    "# Utilizando uma referência de canal (lóbulo da orelha esquerda)\n",
    "# raw.set_eeg_reference(ref_channels=['A1'])\n",
    "\n",
    "# Utilizando uma referencia  de canal (Cz)\n",
    "# raw.set_eeg_reference(ref_channels=['Cz'])\n",
    "\n",
    "# Utilizando a média dos canais mastóides como referência\n",
    "# raw.set_eeg_reference(ref_channels=['M1', 'M2'])\n",
    "\n",
    "# Utilizando uma se a referência bipolar (contralateral)\n",
    "# raw.set_bipolar_reference(anode='[F3'], cathode=['F4'])\n",
    "\n",
    "\n",
    "\n",
    "# Utilizando a média de todos os canais (Common average reference filter) ###\n",
    "raw_avg_ref = reconst_raw.copy().set_eeg_reference(ref_channels=\"average\")\n",
    "\n"
   ]
  },
  {
   "cell_type": "code",
   "execution_count": null,
   "id": "9f077e66",
   "metadata": {},
   "outputs": [],
   "source": [
    "#Visualizar os dados \n",
    "raw_avg_ref.plot()"
   ]
  },
  {
   "cell_type": "code",
   "execution_count": null,
   "id": "c3f3b2e0",
   "metadata": {},
   "outputs": [],
   "source": [
    "# 7. Salvar o arquivo pré-processado\n",
    "raw_avg_ref.save('eeg/preproc/1/ME.fif', overwrite=True)\n"
   ]
  }
 ],
 "metadata": {
  "kernelspec": {
   "display_name": "Python 3 (ipykernel)",
   "language": "python",
   "name": "python3"
  },
  "language_info": {
   "codemirror_mode": {
    "name": "ipython",
    "version": 3
   },
   "file_extension": ".py",
   "mimetype": "text/x-python",
   "name": "python",
   "nbconvert_exporter": "python",
   "pygments_lexer": "ipython3",
   "version": "3.9.13"
  }
 },
 "nbformat": 4,
 "nbformat_minor": 5
}
