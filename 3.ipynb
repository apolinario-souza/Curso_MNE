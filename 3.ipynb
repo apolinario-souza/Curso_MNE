{
 "cells": [
  {
   "cell_type": "markdown",
   "id": "22211805",
   "metadata": {},
   "source": [
    "# 1. Inserir os eventos no arquivo\n",
    "# 2. Análise espectral\n",
    "# 3. Filtrar os dados em bandas\n",
    "\n"
   ]
  },
  {
   "cell_type": "code",
   "execution_count": null,
   "id": "e1602911",
   "metadata": {},
   "outputs": [],
   "source": [
    "# Carregando pacotes\n",
    "from funcoes_uteis import sep_horas, time_to_sec, convert_time_sec, criar_eventos\n",
    "from funcoes_uteis import selecionar_intervalos, selecionar_tentativas\n",
    "import numpy as np\n",
    "import mne\n",
    "from mne.time_frequency import psd_array_multitaper\n",
    "import pandas as pd\n",
    "import matplotlib"
   ]
  },
  {
   "cell_type": "code",
   "execution_count": null,
   "id": "9dac1860",
   "metadata": {},
   "outputs": [],
   "source": [
    "# Definir o número de tentativas\n",
    "n_tt = 20\n",
    "\n",
    "#Truque para \"plotar\" os gráficos em uma janela separada\n",
    "matplotlib.use('Qt5Agg')"
   ]
  },
  {
   "cell_type": "code",
   "execution_count": null,
   "id": "47153a19",
   "metadata": {},
   "outputs": [],
   "source": [
    "#Abrindo os dados pré-processados\n",
    "\n",
    "nome_arquivo = 'eeg/preproc/1/ME.fif'\n",
    "raw = mne.io.read_raw_fif(nome_arquivo, preload=True)\n",
    "raw.plot()\n",
    "\n",
    "#Inserindo o sistema 10-20\n",
    "easycap_montage = mne.channels.make_standard_montage(\"easycap-M1\")\n",
    "raw.set_montage(easycap_montage)"
   ]
  },
  {
   "cell_type": "code",
   "execution_count": null,
   "id": "d5ac1ff1",
   "metadata": {},
   "outputs": [],
   "source": [
    "#Abrindo os dados comportamentais\n",
    "nome_arquivo = 'comp/1/ME'\n",
    "dados_comp = pd.read_csv(nome_arquivo,sep='\\t',header=None)\n"
   ]
  },
  {
   "cell_type": "code",
   "execution_count": null,
   "id": "be827974",
   "metadata": {},
   "outputs": [],
   "source": [
    "\n",
    "#Pegando a hora que iniciou a gravação do eeg e transformando em segudos\n",
    "\n",
    "h, m,s = raw.info['meas_date'].hour, raw.info['meas_date'].minute, raw.info['meas_date'].second\n",
    "T0 = h * 3600 + m * 60 + s\n",
    "print(T0)"
   ]
  },
  {
   "cell_type": "code",
   "execution_count": null,
   "id": "f23e7bb9",
   "metadata": {},
   "outputs": [],
   "source": [
    "#Converter o tempo para segundos\n",
    "# 1. quais colunas do arquivo comportamental os eventos? \n",
    "\n",
    "ref_col1 = 14\n",
    "ref_col2 = 19\n",
    "\n",
    "time_sec_menosT0 = convert_time_sec (dados_comp,n_tt,T0,ref_col1,ref_col2)\n",
    "print(time_sec_menosT0)\n",
    "    "
   ]
  },
  {
   "cell_type": "code",
   "execution_count": null,
   "id": "739471ab",
   "metadata": {},
   "outputs": [],
   "source": [
    "# Criando um novo canal para os eventos\n",
    "### CUIDADO PARA NÃO \"RODAR\" ESSA CÉLULA DUAS VEZES\n",
    "criar_eventos(raw,time_sec_menosT0, n_tt) #Sempre será com uma tentativa a menos, no caso a primeira\n",
    "raw.plot() \n"
   ]
  },
  {
   "cell_type": "code",
   "execution_count": null,
   "id": "09fc2b86",
   "metadata": {},
   "outputs": [],
   "source": [
    "# Gerar o espectro - 4 a 40 Hz é uma boa alterativa\n",
    "espectro  = raw.compute_psd(method='multitaper', fmin=4, fmax=40)\n",
    "print(espectro)"
   ]
  },
  {
   "cell_type": "code",
   "execution_count": null,
   "id": "e0332bd9",
   "metadata": {},
   "outputs": [],
   "source": [
    "# Três formas de representar a análise espectral\n",
    "# Primeira\n",
    "espectro.plot(picks=\"data\", exclude=\"bads\")\n",
    "\n",
    "\n"
   ]
  },
  {
   "cell_type": "code",
   "execution_count": null,
   "id": "09891401",
   "metadata": {},
   "outputs": [],
   "source": [
    "# Segunda\n",
    "espectro.plot_topo(color=\"k\", fig_facecolor=\"w\", axis_facecolor=\"w\")\n"
   ]
  },
  {
   "cell_type": "code",
   "execution_count": null,
   "id": "e449a964",
   "metadata": {},
   "outputs": [],
   "source": [
    "# Terceira\n",
    "bandas_escolhidas = {'Theta (4-8 Hz)': (4, 8),\n",
    "         'Alpha (8-12 Hz)': (8, 12), 'Beta (12-30 Hz)': (12, 30),\n",
    "         'Gamma (30-45 Hz)': (30, 45)}\n",
    "\n",
    "espectro.plot_topomap(bands=bandas_escolhidas, agg_fun=np.median)\n"
   ]
  },
  {
   "cell_type": "code",
   "execution_count": null,
   "id": "a3e5e863",
   "metadata": {},
   "outputs": [],
   "source": [
    "# Salvar o psd \n",
    "\n",
    "psd, freq = psd_array_multitaper(raw.get_data(), sfreq=raw.info['sfreq'], fmin=4,fmax=45)\n",
    "\n",
    "\n",
    "# 3 primeira freq dos 4 primeiros canais:\n",
    "print(psd[:4, :3])\n",
    "print(freq [:4])\n",
    "\n"
   ]
  },
  {
   "cell_type": "code",
   "execution_count": null,
   "id": "e788a101",
   "metadata": {},
   "outputs": [],
   "source": [
    "# Selecionar fequencias para salvar\n",
    "banda = [8,12]\n",
    "\n",
    "\n",
    "#### selecinando os indices\n",
    "for i in range (len(freq)):\n",
    "    indice_inicial = 0\n",
    "    \n",
    "    if freq[i] >= banda[0]:\n",
    "        indice_inicial = i\n",
    "        break\n",
    "for i in range (len(freq)):\n",
    "    indice_final = 0\n",
    "    \n",
    "    if freq[i] >= banda[1]:\n",
    "        indice_final = i\n",
    "        break   \n",
    "    \n",
    "   \n",
    "print(freq[indice_inicial:indice_final]) #conferindo as frequencias"
   ]
  },
  {
   "cell_type": "code",
   "execution_count": null,
   "id": "19d7cbf3",
   "metadata": {},
   "outputs": [],
   "source": [
    "# Salvar os dados na planilha\n",
    "\n",
    "np.savetxt('eeg/espectro/suj1.csv', psd[:,indice_inicial:indice_final], delimiter=',')\n",
    "\n",
    "print('linhas:', raw.ch_names) #para lembrar\n",
    "#print('colunas:', freq[indice_inicial:indice_final])"
   ]
  },
  {
   "cell_type": "code",
   "execution_count": null,
   "id": "49146ec1",
   "metadata": {},
   "outputs": [],
   "source": [
    "############# Filtrar os dados em bandas##########\n",
    "\n",
    "lowcut, highcut = 10,12\n",
    "raw_fill = raw.copy().filter(l_freq=lowcut, h_freq=highcut)\n",
    "\n",
    "\n",
    "raw_fill.plot()\n"
   ]
  },
  {
   "cell_type": "code",
   "execution_count": null,
   "id": "97380381",
   "metadata": {},
   "outputs": [],
   "source": [
    "# Se quiser salvar os dados\n",
    "np.savetxt('eeg/filtrado/suj1.csv', raw_fill.get_data(), delimiter=',')\n",
    "\n",
    "print('linhas:', raw_fill.ch_names) #para lembrar"
   ]
  },
  {
   "cell_type": "code",
   "execution_count": null,
   "id": "670f56a9",
   "metadata": {},
   "outputs": [],
   "source": [
    "# Separar os dados por tentativas\n",
    "\n",
    "eeg_interesse = raw_fill.copy() # Dados filtrados\n",
    "\n",
    "inicio, fim = time_sec_menosT0[16] #0 = tentativa 1, ...\n",
    "\n",
    "\n",
    "raw_cortado = eeg_interesse.crop(tmin=inicio, tmax=fim)\n",
    "print('duracao', str(fim-inicio))"
   ]
  },
  {
   "cell_type": "code",
   "execution_count": null,
   "id": "6bcae43e",
   "metadata": {},
   "outputs": [],
   "source": [
    "#Plotar a tentativa\n",
    "raw_cortado.plot()\n"
   ]
  },
  {
   "cell_type": "code",
   "execution_count": null,
   "id": "6501f06e",
   "metadata": {},
   "outputs": [],
   "source": [
    "# Salvar a tentivas recortada\n",
    "raw_cortado.save('tentativa1.fif', overwrite=True)"
   ]
  }
 ],
 "metadata": {
  "kernelspec": {
   "display_name": "Python 3 (ipykernel)",
   "language": "python",
   "name": "python3"
  },
  "language_info": {
   "codemirror_mode": {
    "name": "ipython",
    "version": 3
   },
   "file_extension": ".py",
   "mimetype": "text/x-python",
   "name": "python",
   "nbconvert_exporter": "python",
   "pygments_lexer": "ipython3",
   "version": "3.9.13"
  }
 },
 "nbformat": 4,
 "nbformat_minor": 5
}
