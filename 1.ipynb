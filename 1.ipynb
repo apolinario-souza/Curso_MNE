{
 "cells": [
  {
   "cell_type": "markdown",
   "id": "19188376",
   "metadata": {},
   "source": [
    "# Ambiente de desenvolvimento\n",
    "- Instalar o Anaconda \n",
    "- Ambiente do jupyter Notebook\n",
    "    - principais comandos\n",
    "\n",
    "# Visão geral do MNE-Python\n",
    "- O que é o MNE-Python\n",
    "- Instalação do Anaconda\n",
    "    - Instalação do MNE-python\n",
    "- Organização dos dados\n",
    "\n",
    "# Carregando e visualizando os dados \n",
    "\n"
   ]
  },
  {
   "cell_type": "code",
   "execution_count": 3,
   "id": "173dcab6",
   "metadata": {},
   "outputs": [],
   "source": [
    "# Instalando pacotes\n",
    "#!pip install mne\n"
   ]
  },
  {
   "cell_type": "code",
   "execution_count": 1,
   "id": "78f284d2",
   "metadata": {},
   "outputs": [],
   "source": [
    "# Carregando pacotes\n",
    "import os\n",
    "import numpy as np\n",
    "import mne\n",
    "import matplotlib"
   ]
  },
  {
   "cell_type": "code",
   "execution_count": 2,
   "id": "7317773e",
   "metadata": {},
   "outputs": [],
   "source": [
    "#Truque para \"plotar\" os gráficos em uma janela separada\n",
    "matplotlib.use('Qt5Agg')"
   ]
  },
  {
   "cell_type": "code",
   "execution_count": 3,
   "id": "54649e28",
   "metadata": {},
   "outputs": [
    {
     "name": "stdout",
     "output_type": "stream",
     "text": [
      "Extracting EDF parameters from /home/tercio/Documentos/Curso_MNE/eeg/1/ME.edf...\n",
      "EDF file detected\n",
      "Setting channel info structure...\n",
      "Creating raw.info structure...\n",
      "Reading 0 ... 168959  =      0.000 ...   164.999 secs...\n"
     ]
    }
   ],
   "source": [
    "# Abrindo o arquivo eeg\n",
    "nome_arquivo = \"eeg/1/ME.edf\"\n",
    "raw = mne.io.read_raw_edf(nome_arquivo, preload=True)\n"
   ]
  },
  {
   "cell_type": "code",
   "execution_count": 5,
   "id": "74965fa5",
   "metadata": {},
   "outputs": [
    {
     "name": "stdout",
     "output_type": "stream",
     "text": [
      "<Info | 7 non-empty values\n",
      " bads: []\n",
      " ch_names: ECG, POz, Fz, Cz, C3, C4, F3, F4, P3, P4, ESUTimestamp, ...\n",
      " chs: 15 EEG\n",
      " custom_ref_applied: False\n",
      " highpass: 0.0 Hz\n",
      " lowpass: 512.0 Hz\n",
      " meas_date: 2017-07-02 10:50:10 UTC\n",
      " nchan: 15\n",
      " projs: []\n",
      " sfreq: 1024.0 Hz\n",
      ">\n"
     ]
    }
   ],
   "source": [
    "# Nosso arquivo de eeg é um objeto com alguns dados importantes\n",
    "print(raw.info)"
   ]
  },
  {
   "cell_type": "code",
   "execution_count": 7,
   "id": "2d43ac32",
   "metadata": {},
   "outputs": [
    {
     "name": "stdout",
     "output_type": "stream",
     "text": [
      "Using matplotlib as 2D backend.\n"
     ]
    },
    {
     "data": {
      "text/plain": [
       "<MNEBrowseFigure size 1680x986 with 4 Axes>"
      ]
     },
     "execution_count": 7,
     "metadata": {},
     "output_type": "execute_result"
    },
    {
     "name": "stdout",
     "output_type": "stream",
     "text": [
      "Channels marked as bad:\n",
      "none\n"
     ]
    }
   ],
   "source": [
    "# Para visualizarmos os dados\n",
    "raw.plot()"
   ]
  },
  {
   "cell_type": "code",
   "execution_count": 8,
   "id": "033640c9",
   "metadata": {},
   "outputs": [
    {
     "data": {
      "text/html": [
       "<table class=\"table table-hover table-striped table-sm table-responsive small\">\n",
       "    <tr>\n",
       "        <th>Measurement date</th>\n",
       "        \n",
       "        <td>julho 02, 2017  10:50:10 GMT</td>\n",
       "        \n",
       "    </tr>\n",
       "    <tr>\n",
       "        <th>Experimenter</th>\n",
       "        \n",
       "        <td>Unknown</td>\n",
       "        \n",
       "    </tr>\n",
       "        <th>Participant</th>\n",
       "        \n",
       "        <td>Unknown</td>\n",
       "        \n",
       "    </tr>\n",
       "    <tr>\n",
       "        <th>Digitized points</th>\n",
       "        \n",
       "        <td>Not available</td>\n",
       "        \n",
       "    </tr>\n",
       "    <tr>\n",
       "        <th>Good channels</th>\n",
       "        <td>9 EEG</td>\n",
       "    </tr>\n",
       "    <tr>\n",
       "        <th>Bad channels</th>\n",
       "        <td>None</td>\n",
       "    </tr>\n",
       "    <tr>\n",
       "        <th>EOG channels</th>\n",
       "        <td>Not available</td>\n",
       "    </tr>\n",
       "    <tr>\n",
       "        <th>ECG channels</th>\n",
       "        <td>Not available</td>\n",
       "    \n",
       "    <tr>\n",
       "        <th>Sampling frequency</th>\n",
       "        <td>1024.00 Hz</td>\n",
       "    </tr>\n",
       "    \n",
       "    \n",
       "    <tr>\n",
       "        <th>Highpass</th>\n",
       "        <td>0.00 Hz</td>\n",
       "    </tr>\n",
       "    \n",
       "    \n",
       "    <tr>\n",
       "        <th>Lowpass</th>\n",
       "        <td>512.00 Hz</td>\n",
       "    </tr>\n",
       "    \n",
       "    \n",
       "    \n",
       "    <tr>\n",
       "        <th>Filenames</th>\n",
       "        <td>ME.edf</td>\n",
       "    </tr>\n",
       "    \n",
       "    <tr>\n",
       "        <th>Duration</th>\n",
       "        <td>00:02:45 (HH:MM:SS)</td>\n",
       "    </tr>\n",
       "</table>"
      ],
      "text/plain": [
       "<RawEDF | ME.edf, 9 x 168960 (165.0 s), ~11.6 MB, data loaded>"
      ]
     },
     "execution_count": 8,
     "metadata": {},
     "output_type": "execute_result"
    }
   ],
   "source": [
    "##### Removendo os canais que nao serao utilizados\n",
    "ch_names = ['SystemTimestamp', 'Tilt X', 'Tilt Y', 'Tilt Z', 'ESUTimestamp', 'ECG']\n",
    "raw.drop_channels(ch_names, on_missing='raise')"
   ]
  },
  {
   "cell_type": "code",
   "execution_count": 9,
   "id": "b6e651b7",
   "metadata": {},
   "outputs": [
    {
     "data": {
      "text/plain": [
       "<MNEBrowseFigure size 1680x986 with 4 Axes>"
      ]
     },
     "execution_count": 9,
     "metadata": {},
     "output_type": "execute_result"
    },
    {
     "name": "stdout",
     "output_type": "stream",
     "text": [
      "Channels marked as bad:\n",
      "none\n"
     ]
    }
   ],
   "source": [
    "#Observer a mudança agora\n",
    "raw.plot()"
   ]
  },
  {
   "cell_type": "code",
   "execution_count": 10,
   "id": "b0ffb8db",
   "metadata": {},
   "outputs": [
    {
     "data": {
      "text/html": [
       "<table class=\"table table-hover table-striped table-sm table-responsive small\">\n",
       "    <tr>\n",
       "        <th>Measurement date</th>\n",
       "        \n",
       "        <td>julho 02, 2017  10:50:10 GMT</td>\n",
       "        \n",
       "    </tr>\n",
       "    <tr>\n",
       "        <th>Experimenter</th>\n",
       "        \n",
       "        <td>Unknown</td>\n",
       "        \n",
       "    </tr>\n",
       "        <th>Participant</th>\n",
       "        \n",
       "        <td>Unknown</td>\n",
       "        \n",
       "    </tr>\n",
       "    <tr>\n",
       "        <th>Digitized points</th>\n",
       "        \n",
       "        <td>12 points</td>\n",
       "        \n",
       "    </tr>\n",
       "    <tr>\n",
       "        <th>Good channels</th>\n",
       "        <td>9 EEG</td>\n",
       "    </tr>\n",
       "    <tr>\n",
       "        <th>Bad channels</th>\n",
       "        <td>None</td>\n",
       "    </tr>\n",
       "    <tr>\n",
       "        <th>EOG channels</th>\n",
       "        <td>Not available</td>\n",
       "    </tr>\n",
       "    <tr>\n",
       "        <th>ECG channels</th>\n",
       "        <td>Not available</td>\n",
       "    \n",
       "    <tr>\n",
       "        <th>Sampling frequency</th>\n",
       "        <td>1024.00 Hz</td>\n",
       "    </tr>\n",
       "    \n",
       "    \n",
       "    <tr>\n",
       "        <th>Highpass</th>\n",
       "        <td>0.00 Hz</td>\n",
       "    </tr>\n",
       "    \n",
       "    \n",
       "    <tr>\n",
       "        <th>Lowpass</th>\n",
       "        <td>512.00 Hz</td>\n",
       "    </tr>\n",
       "    \n",
       "    \n",
       "    \n",
       "    <tr>\n",
       "        <th>Filenames</th>\n",
       "        <td>ME.edf</td>\n",
       "    </tr>\n",
       "    \n",
       "    <tr>\n",
       "        <th>Duration</th>\n",
       "        <td>00:02:45 (HH:MM:SS)</td>\n",
       "    </tr>\n",
       "</table>"
      ],
      "text/plain": [
       "<RawEDF | ME.edf, 9 x 168960 (165.0 s), ~11.6 MB, data loaded>"
      ]
     },
     "execution_count": 10,
     "metadata": {},
     "output_type": "execute_result"
    }
   ],
   "source": [
    "##### Inserindo a montagem do sistema 10-20 no arquivo de eeg\n",
    "easycap_montage = mne.channels.make_standard_montage(\"easycap-M1\")\n",
    "raw.set_montage(easycap_montage)"
   ]
  }
 ],
 "metadata": {
  "kernelspec": {
   "display_name": "Python 3 (ipykernel)",
   "language": "python",
   "name": "python3"
  },
  "language_info": {
   "codemirror_mode": {
    "name": "ipython",
    "version": 3
   },
   "file_extension": ".py",
   "mimetype": "text/x-python",
   "name": "python",
   "nbconvert_exporter": "python",
   "pygments_lexer": "ipython3",
   "version": "3.9.13"
  }
 },
 "nbformat": 4,
 "nbformat_minor": 5
}
